{
 "metadata": {
  "language_info": {
   "codemirror_mode": {
    "name": "ipython",
    "version": 3
   },
   "file_extension": ".py",
   "mimetype": "text/x-python",
   "name": "python",
   "nbconvert_exporter": "python",
   "pygments_lexer": "ipython3",
   "version": "3.8.3-final"
  },
  "orig_nbformat": 2,
  "kernelspec": {
   "name": "python3",
   "display_name": "Python 3"
  }
 },
 "nbformat": 4,
 "nbformat_minor": 2,
 "cells": [
  {
   "cell_type": "code",
   "execution_count": 151,
   "metadata": {},
   "outputs": [],
   "source": [
    "from datetime import datetime, timedelta, date"
   ]
  },
  {
   "source": [
    "## Задание 1\n",
    "\n",
    "Печатные газеты использовали свой формат дат для каждого выпуска. Для каждой газеты из списка напишите формат указанной даты для перевода в объект datetime:\n",
    "The Moscow Times - Wednesday, October 2, 2002\n",
    "The Guardian - Friday, 11.10.13\n",
    "Daily News - Thursday, 18 August 1977"
   ],
   "cell_type": "markdown",
   "metadata": {}
  },
  {
   "cell_type": "code",
   "execution_count": 152,
   "metadata": {},
   "outputs": [],
   "source": [
    "dateStrings = [('The Moscow Times', 'Wednesday, October 2, 2002'),\n",
    "               ('The Guardian', 'Friday, 11.10.13'),\n",
    "               ('Daily News', 'Thursday, 18 August 1977'),\n",
    "]\n",
    "#dateStrings[0][1]"
   ]
  },
  {
   "cell_type": "code",
   "execution_count": 153,
   "metadata": {
    "tags": []
   },
   "outputs": [
    {
     "output_type": "stream",
     "name": "stdout",
     "text": "The Moscow Times - 2002-10-02 00:00:00\nThe Guardian - 2013-10-11 00:00:00\nDaily News - 1977-08-18 00:00:00\n"
    }
   ],
   "source": [
    "dateFromMT = datetime.strptime(dateStrings[0][1], '%A, %B %d, %Y')\n",
    "dateFromTG = datetime.strptime(dateStrings[1][1], '%A, %d.%m.%y')\n",
    "dateFromDN = datetime.strptime(dateStrings[2][1], '%A, %d %B %Y')\n",
    "print (f'{dateStrings[0][0]} - {dateFromMT}\\n{dateStrings[1][0]} - {dateFromTG}\\n{dateStrings[2][0]} - {dateFromDN}')"
   ]
  },
  {
   "source": [
    "## Задание 2\n",
    "Дан поток дат в формате YYYY-MM-DD, в которых встречаются некорректные значения:\n",
    "stream = [‘2018-04-02’, ‘2018-02-29’, ‘2018-19-02’]\n",
    "\n",
    "Напишите функцию, которая проверяет эти даты на корректность. Т. е. для каждой даты возвращает True (дата корректна) или False (некорректная дата).\n"
   ],
   "cell_type": "markdown",
   "metadata": {}
  },
  {
   "cell_type": "code",
   "execution_count": 154,
   "metadata": {},
   "outputs": [],
   "source": [
    "stream = ['2018-04-02', '2018-02-29', '2018-19-02']"
   ]
  },
  {
   "cell_type": "code",
   "execution_count": 155,
   "metadata": {},
   "outputs": [],
   "source": [
    "def correctDate (date):\n",
    "    try:\n",
    "        datetime.strptime(date, '%Y-%m-%d')\n",
    "        return True\n",
    "    except:\n",
    "        return False"
   ]
  },
  {
   "cell_type": "code",
   "execution_count": 156,
   "metadata": {
    "tags": []
   },
   "outputs": [
    {
     "output_type": "stream",
     "name": "stdout",
     "text": "2018-04-02 is True\n2018-02-29 is False\n2018-19-02 is False\n"
    }
   ],
   "source": [
    "for date in stream:\n",
    "    print(f'{date} is {bool(correctDate(date))}')"
   ]
  },
  {
   "source": [
    "## Задание 3\n",
    "\n",
    "Напишите функцию date_range, которая возвращает список дат за период от start_date до end_date. \n",
    "Даты должны вводиться в формате YYYY-MM-DD. В случае неверного формата\n",
    "или при start_date > end_date должен возвращаться пустой список."
   ],
   "cell_type": "markdown",
   "metadata": {}
  },
  {
   "cell_type": "code",
   "execution_count": 157,
   "metadata": {},
   "outputs": [],
   "source": [
    "#yield\n",
    "def dateRange (startDate, endDate):\n",
    "    for n in range(int ((endDate - startDate).days)):\n",
    "        yield startDate + timedelta(n)"
   ]
  },
  {
   "cell_type": "code",
   "execution_count": 158,
   "metadata": {},
   "outputs": [],
   "source": [
    "def date_range (startDate, endDate):\n",
    "    dateArray = []\n",
    "    if startDate < endDate:\n",
    "        for singleDate in dateRange(startDate, endDate):\n",
    "            tempDate = singleDate.strftime(\"%Y-%m-%d\")\n",
    "            dateArray.append(tempDate)\n",
    "        return dateArray\n",
    "    else:\n",
    "        return dateArray"
   ]
  },
  {
   "cell_type": "code",
   "execution_count": 161,
   "metadata": {
    "tags": []
   },
   "outputs": [
    {
     "output_type": "stream",
     "name": "stdout",
     "text": "['2018-01-01', '2018-01-02', '2018-01-03', '2018-01-04', '2018-01-05', '2018-01-06', '2018-01-07', '2018-01-08', '2018-01-09', '2018-01-10', '2018-01-11', '2018-01-12', '2018-01-13', '2018-01-14', '2018-01-15', '2018-01-16', '2018-01-17', '2018-01-18', '2018-01-19', '2018-01-20', '2018-01-21', '2018-01-22', '2018-01-23', '2018-01-24', '2018-01-25', '2018-01-26', '2018-01-27', '2018-01-28', '2018-01-29', '2018-01-30', '2018-01-31']\n"
    }
   ],
   "source": [
    "\n",
    "start_date = datetime.strptime(input('Введите начальную дату:'), '%Y-%m-%d')\n",
    "end_date = datetime.strptime(input('Введите конечную дату:'), '%Y-%m-%d')\n",
    "\n",
    "print(date_range(start_date, end_date))"
   ]
  },
  {
   "source": [
    "## Задание 4\n",
    "\n",
    "Ваш коллега прислал код функции\n",
    "\n",
    "При однократном вызове этой функции все работает корректно: delete_and_return_last_user(1) ‘A101’\n",
    "Однако, при повторном вызове получается ошибка IndexError: list index out of range."
   ],
   "cell_type": "markdown",
   "metadata": {}
  },
  {
   "cell_type": "code",
   "execution_count": 167,
   "metadata": {},
   "outputs": [],
   "source": [
    "DEFAULT_USER_COUNT = 3\n",
    "\n",
    "def delete_and_return_last_user(region, default_list=['A100', 'A101', 'A102']):\n",
    "#Удаляет из списка default_list последнего пользователя и возвращает ID нового последнего пользователя.\n",
    "    element_to_delete = default_list[-1]\n",
    "    default_list.remove(element_to_delete)\n",
    "\n",
    "    return default_list[DEFAULT_USER_COUNT-2]"
   ]
  },
  {
   "cell_type": "code",
   "execution_count": 168,
   "metadata": {},
   "outputs": [
    {
     "output_type": "execute_result",
     "data": {
      "text/plain": "'A101'"
     },
     "metadata": {},
     "execution_count": 168
    }
   ],
   "source": [
    "delete_and_return_last_user(1)"
   ]
  },
  {
   "source": [
    "1)Что значит ошибка list index out of range?\n",
    "2)Почему при первом запуске функция работает корректно, а при втором - нет?\n",
    "\n",
    "1)list index out of range - Обозначает, что данный индекс находится за границей листа и по данному индексу нет элемента в списке\n",
    "\n",
    "2)Так как переменная DEFAULT_USER_COUNT не изменяется в \"return default_list\\[DEFAULT_USER_COUNT-2]\", а количество элементов в списке уменьшается. То при втором вызове в return мы будем так же обращаться к 1(с нуля) элементу, но его уже не будет. Поэтому лучше использовать default_list\\[-1]. Так мы всегда будем обращаться к последнему элементу\n"
   ],
   "cell_type": "markdown",
   "metadata": {}
  }
 ]
}