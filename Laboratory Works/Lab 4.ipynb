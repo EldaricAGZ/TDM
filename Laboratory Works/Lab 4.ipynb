{
 "metadata": {
  "language_info": {
   "codemirror_mode": {
    "name": "ipython",
    "version": 3
   },
   "file_extension": ".py",
   "mimetype": "text/x-python",
   "name": "python",
   "nbconvert_exporter": "python",
   "pygments_lexer": "ipython3",
   "version": "3.8.3-final"
  },
  "orig_nbformat": 2,
  "kernelspec": {
   "name": "python3",
   "display_name": "Python 3"
  }
 },
 "nbformat": 4,
 "nbformat_minor": 2,
 "cells": [
  {
   "cell_type": "code",
   "execution_count": 8,
   "metadata": {},
   "outputs": [],
   "source": [
    "from datetime import datetime, timedelta, date"
   ]
  },
  {
   "source": [
    "## Задание 1\n",
    "\n",
    "Печатные газеты использовали свой формат дат для каждого выпуска. Для каждой газеты из списка напишите формат указанной даты для перевода в объект datetime:\n",
    "The Moscow Times - Wednesday, October 2, 2002\n",
    "The Guardian - Friday, 11.10.13\n",
    "Daily News - Thursday, 18 August 1977"
   ],
   "cell_type": "markdown",
   "metadata": {}
  },
  {
   "cell_type": "code",
   "execution_count": 1,
   "metadata": {},
   "outputs": [],
   "source": [
    "dateStrings = [('The Moscow Times', 'Wednesday, October 2, 2002'),\n",
    "               ('The Guardian', 'Friday, 11.10.13'),\n",
    "               ('Daily News', 'Thursday, 18 August 1977'),\n",
    "]\n",
    "#dateStrings[0][1]"
   ]
  },
  {
   "cell_type": "code",
   "execution_count": 9,
   "metadata": {
    "tags": []
   },
   "outputs": [
    {
     "output_type": "stream",
     "name": "stdout",
     "text": "The Moscow Times - 2002-10-02 00:00:00\nThe Guardian - 2013-10-11 00:00:00\nDaily News - 1977-08-18 00:00:00\n"
    }
   ],
   "source": [
    "dateFromMT = datetime.strptime(dateStrings[0][1], '%A, %B %d, %Y')\n",
    "dateFromTG = datetime.strptime(dateStrings[1][1], '%A, %d.%m.%y')\n",
    "dateFromDN = datetime.strptime(dateStrings[2][1], '%A, %d %B %Y')\n",
    "print (f'{dateStrings[0][0]} - {dateFromMT}\\n{dateStrings[1][0]} - {dateFromTG}\\n{dateStrings[2][0]} - {dateFromDN}')"
   ]
  },
  {
   "source": [
    "## Задание 2\n",
    "Дан поток дат в формате YYYY-MM-DD, в которых встречаются некорректные значения:\n",
    "stream = [‘2018-04-02’, ‘2018-02-29’, ‘2018-19-02’]\n",
    "\n",
    "Напишите функцию, которая проверяет эти даты на корректность. Т. е. для каждой даты возвращает True (дата корректна) или False (некорректная дата).\n"
   ],
   "cell_type": "markdown",
   "metadata": {}
  },
  {
   "cell_type": "code",
   "execution_count": 8,
   "metadata": {},
   "outputs": [],
   "source": [
    "stream = ['2018-04-02', '2018-02-29', '2018-19-02']"
   ]
  },
  {
   "cell_type": "code",
   "execution_count": 9,
   "metadata": {},
   "outputs": [],
   "source": [
    "def correctDate (date):\n",
    "    try:\n",
    "        datetime.strptime(date, '%Y-%m-%d')\n",
    "        return True\n",
    "    except:\n",
    "        return False"
   ]
  },
  {
   "cell_type": "code",
   "execution_count": 17,
   "metadata": {
    "tags": []
   },
   "outputs": [
    {
     "output_type": "stream",
     "name": "stdout",
     "text": "2018-04-02 is True\n2018-02-29 is False\n2018-19-02 is False\n"
    }
   ],
   "source": [
    "for date in stream:\n",
    "    print(f'{date} is {bool(correctDate(date))}')"
   ]
  },
  {
   "source": [
    "## Задание 3\n",
    "\n",
    "Напишите функцию date_range, которая возвращает список дат за период от start_date до end_date. \n",
    "Даты должны вводиться в формате YYYY-MM-DD. В случае неверного формата\n",
    "или при start_date > end_date должен возвращаться пустой список."
   ],
   "cell_type": "markdown",
   "metadata": {}
  },
  {
   "cell_type": "code",
   "execution_count": 10,
   "metadata": {},
   "outputs": [],
   "source": [
    "#yield\n",
    "def dateRange (start_date, end_date):\n",
    "    for n in range(int ((start_date - end_date).days)):\n",
    "        yield start_date + timedelta(n)"
   ]
  },
  {
   "cell_type": "code",
   "execution_count": null,
   "metadata": {},
   "outputs": [],
   "source": [
    "def date_range ():\n",
    "    dateArray = []\n",
    "    if start_date > end_date:\n",
    "        start_date = datetime.strptime(start_date, '%Y-%m-%d')\n",
    "        end_date = datetime.strptime(end_date, '%Y-%m-%d')\n",
    "        for single_date in daterange(start_date, end_date):\n",
    "            dateArray.append(single_date.strftime(\"%Y-%m-%d\"))\n",
    "        return dateArray\n",
    "    else:\n",
    "        return dateArray"
   ]
  },
  {
   "cell_type": "code",
   "execution_count": null,
   "metadata": {},
   "outputs": [],
   "source": [
    "\n",
    "start_date = input('Введите начальную дату:')\n",
    "end_date = input('Введите конечную дату:')\n",
    "\n"
   ]
  }
 ]
}