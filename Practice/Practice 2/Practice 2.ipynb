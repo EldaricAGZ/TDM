{
 "cells": [
  {
   "cell_type": "markdown",
   "metadata": {},
   "source": [
    "# Домашнее задание\n",
    "1. Переведите содержимое файла purchase_log.txt в словарь purchases вида:\n",
    "```python\n",
    "{'1840e0b9d4': 'Продукты', ...}\n",
    "```\n",
    "\n",
    "2. Для каждого user_id в файле visit_log.csv определите третий столбец с категорией покупки (если покупка была, сам файл visit_log.csv изменять не надо). Запишите в файл funnel.csv визиты из файла visit_log.csv, в которых были покупки с указанием категории.\n",
    "\n",
    "Учтите условия на данные:\n",
    "- содержимое purchase_log.txt помещается в оперативную память компьютера\n",
    "- содержимое visit_log.csv - нет; используйте только построчную обработку этого файла"
   ]
  },
  {
   "cell_type": "markdown",
   "metadata": {},
   "source": [
    "## 1 задание"
   ]
  },
  {
   "cell_type": "code",
   "execution_count": 1,
   "metadata": {},
   "outputs": [],
   "source": [
    "import json\n",
    "deleteSubStr = lambda string, usellesStr: string.replace(usellesStr, '')"
   ]
  },
  {
   "cell_type": "code",
   "execution_count": 2,
   "metadata": {
    "tags": []
   },
   "outputs": [
    {
     "output_type": "stream",
     "name": "stdout",
     "text": "('1840e0b9d4', 'Продукты')\n('4e4f90fcfb', 'Электроника')\n('afea8d72fc', 'Электроника')\n('373a6055fe', 'Бытовая техника')\n('9b2ab046f3', 'Электроника')\n('9f39d307c3', 'Электроника')\n('44edeffc91', 'Продукты')\n"
    }
   ],
   "source": [
    "purchases = {}\n",
    "\n",
    "with open('purchase_log.txt', encoding = 'UTF-8') as purchaseFile:\n",
    "    purchaseFile.readline()\n",
    "    for lineFile in purchaseFile:\n",
    "        line = deleteSubStr(lineFile,'\"user_id\":')\n",
    "        line = deleteSubStr(line,'\"category\":')\n",
    "        line = line.replace(',', ':')\n",
    "        purchases.update(json.loads(line.strip()))\n",
    "\n",
    "for i, purchase in enumerate(purchases.items()):\n",
    "    print(purchase)\n",
    "    if i > 5:\n",
    "        break"
   ]
  },
  {
   "source": [
    "## 2 задание\n",
    "\n",
    "Для каждого user_id в файле visit_log.csv определите третий столбец с категорией покупки (если покупка была, сам файл visit_log.csv изменять не надо). Запишите в файл funnel.csv визиты из файла visit_log.csv, в которых были покупки с указанием категории."
   ],
   "cell_type": "markdown",
   "metadata": {}
  },
  {
   "cell_type": "code",
   "execution_count": 15,
   "metadata": {
    "tags": []
   },
   "outputs": [
    {
     "output_type": "stream",
     "name": "stdout",
     "text": "other\n\n5eb248a344,Строительство и ремонт,Строительство и ремонт\n\n"
    }
   ],
   "source": [
    "with open('visit_log.csv') as visitLogFile:\n",
    "    visitLogFile.readline()\n",
    "    for lineFile in visitLogFile:\n",
    "        values = lineFile.split(',')\n",
    "        print(values[1])\n",
    "        break\n",
    "        if values[0] in purchases.keys():\n",
    "            print(purchases[values[0]])\n",
    "            valuePurch = purchases[values[0]]\n",
    "            del purchases[values[0]]\n",
    "            purchases[values[0]] = [valuePurch, values[1]]\n",
    "\n",
    "    with open('funnel.csv', 'w') as funnelFile:\n",
    "        funnelFile.write('user_id,category,source\\n')\n",
    "        for key, value in purchases.items():\n",
    "            print(f'{key},{value},{value}\\n')\n",
    "            funnelFile.write(f'{key},{value[0]},{value[1]}\\n')\n",
    "            break"
   ]
  },
  {
   "cell_type": "code",
   "execution_count": 6,
   "metadata": {
    "tags": []
   },
   "outputs": [
    {
     "output_type": "stream",
     "name": "stdout",
     "text": "[\"5eb248a344\", \"\\u0421\\u0442\\u0440\\u043e\\u0438\\u0442\\u0435\\u043b\\u044c\\u0441\\u0442\\u0432\\u043e \\u0438 \\u0440\\u0435\\u043c\\u043e\\u043d\\u0442\"]\n"
    }
   ],
   "source": [
    "for value in purchases.items():\n",
    "    string = f'{key},{value[0]},{value[1]}'"
   ]
  }
 ],
 "metadata": {
  "kernelspec": {
   "display_name": "Python 3.8.3 64-bit ('base': conda)",
   "language": "python",
   "name": "python_defaultSpec_1600920425614"
  },
  "language_info": {
   "codemirror_mode": {
    "name": "ipython",
    "version": 3
   },
   "file_extension": ".py",
   "mimetype": "text/x-python",
   "name": "python",
   "nbconvert_exporter": "python",
   "pygments_lexer": "ipython3",
   "version": "3.8.3-final"
  }
 },
 "nbformat": 4,
 "nbformat_minor": 2
}