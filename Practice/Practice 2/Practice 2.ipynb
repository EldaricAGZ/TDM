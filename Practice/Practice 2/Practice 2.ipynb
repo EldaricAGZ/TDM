{
 "cells": [
  {
   "cell_type": "markdown",
   "metadata": {},
   "source": [
    "# Домашнее задание\n",
    "1. Переведите содержимое файла purchase_log.txt в словарь purchases вида:\n",
    "```python\n",
    "{'1840e0b9d4': 'Продукты', ...}\n",
    "```\n",
    "\n",
    "2. Для каждого user_id в файле visit_log.csv определите третий столбец с категорией покупки (если покупка была, сам файл visit_log.csv изменять не надо). Запишите в файл funnel.csv визиты из файла visit_log.csv, в которых были покупки с указанием категории.\n",
    "\n",
    "Учтите условия на данные:\n",
    "- содержимое purchase_log.txt помещается в оперативную память компьютера\n",
    "- содержимое visit_log.csv - нет; используйте только построчную обработку этого файла"
   ]
  },
  {
   "cell_type": "markdown",
   "metadata": {},
   "source": [
    "## 1 задание"
   ]
  },
  {
   "cell_type": "code",
   "execution_count": null,
   "metadata": {},
   "outputs": [],
   "source": [
    "deleteSubStr = lambda string, usellesStr: string.replace(usellesStr, '')"
   ]
  },
  {
   "cell_type": "code",
   "execution_count": 36,
   "metadata": {
    "tags": []
   },
   "outputs": [
    {
     "output_type": "stream",
     "name": "stdout",
     "text": "('1840e0b9d4', 'Продукты')\n('4e4f90fcfb', 'Электроника')\n('afea8d72fc', 'Электроника')\n('373a6055fe', 'Бытовая техника')\n('9b2ab046f3', 'Электроника')\n('9f39d307c3', 'Электроника')\n('44edeffc91', 'Продукты')\n"
    }
   ],
   "source": [
    "import json\n",
    "purchases = {}\n",
    "\n",
    "with open('purchase_log.txt') as purchaseFile:\n",
    "    purchaseFile.readline()\n",
    "    for lineFile in purchaseFile:\n",
    "        line = deleteSubStr(lineFile,'\"user_id\":')\n",
    "        line = deleteSubStr(line,'\"category\":')\n",
    "        line = line.replace(',', ':')\n",
    "        line = line.encode('cp1251', 'ignore').decode('utf8', 'ignore')\n",
    "        purchases.update(json.loads(line))\n",
    "\n",
    "for i, purchase in enumerate(purchases.items()):\n",
    "    print(purchase)\n",
    "    if i > 5:\n",
    "        break\n",
    "\n",
    "        #line = lineFile.strip(' \\n}{').split(',' and ':')"
   ]
  },
  {
   "source": [
    "## 2 задание"
   ],
   "cell_type": "markdown",
   "metadata": {}
  },
  {
   "cell_type": "code",
   "execution_count": null,
   "metadata": {},
   "outputs": [],
   "source": []
  }
 ],
 "metadata": {
  "kernelspec": {
   "display_name": "Python 3.8.3 64-bit ('base': conda)",
   "language": "python",
   "name": "python_defaultSpec_1600612441930"
  },
  "language_info": {
   "codemirror_mode": {
    "name": "ipython",
    "version": 3
   },
   "file_extension": ".py",
   "mimetype": "text/x-python",
   "name": "python",
   "nbconvert_exporter": "python",
   "pygments_lexer": "ipython3",
   "version": "3.8.3-final"
  }
 },
 "nbformat": 4,
 "nbformat_minor": 2
}